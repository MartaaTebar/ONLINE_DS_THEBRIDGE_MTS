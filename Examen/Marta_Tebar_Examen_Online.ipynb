{
 "cells": [
  {
   "cell_type": "markdown",
   "id": "1f1401c1-4dc9-4902-95bf-160715a42a25",
   "metadata": {},
   "source": [
    "# Prueba de Ramp-up"
   ]
  },
  {
   "cell_type": "markdown",
   "id": "1b34c670-a6dd-482d-9b04-5babee7be17a",
   "metadata": {},
   "source": [
    "Antes de comenzar, cambia el nombre del archivo notebook poniéndole delante tu nombre y primer apellido:\n",
    "\n",
    "* ``<nombre_apellido>_examen_online.ipynb``"
   ]
  },
  {
   "cell_type": "code",
   "execution_count": 67,
   "id": "c8d9a657-272c-425a-9ac4-ea59f479673c",
   "metadata": {},
   "outputs": [],
   "source": [
    "# Escribe tu nombre en la variable:\n",
    "nombre_y_apellidos = \"Marta Tebar Saiz\" "
   ]
  },
  {
   "cell_type": "code",
   "execution_count": 68,
   "id": "2e9f9af5-076c-44ec-9a80-95c0e99cdc58",
   "metadata": {},
   "outputs": [],
   "source": [
    "\"\"\"\n",
    "Criterios de corrección:\n",
    "\n",
    "ejecución (ausencia de errores y obtención de resultados)\n",
    "estructura del código\n",
    "uso correcto de variables\n",
    "manejo de tipo de variables\n",
    "asignaciones\n",
    "operaciones booleanas\n",
    "manejo lógico de flujos de control y bucles\n",
    "uso de colecciones\n",
    "uso de funciones\n",
    "\"\"\";\n",
    "\n",
    "# Ejemplo de como queremos ver el código para más de un intento:\n",
    "\n",
    "# intento 1\n",
    "#your code\n",
    "\n",
    "# intento 2\n",
    "#your code"
   ]
  },
  {
   "cell_type": "code",
   "execution_count": 69,
   "id": "bb16d0e3-3bb9-4f2b-944e-8fc35e628701",
   "metadata": {},
   "outputs": [],
   "source": [
    "# crea todas las celdas que necesites"
   ]
  },
  {
   "cell_type": "markdown",
   "id": "9e02b8f5-6f66-4e73-acfa-7f8c3977de2a",
   "metadata": {},
   "source": [
    "#### Notas y pruebas de apoyo para contestar las preguntas\n",
    "\n",
    "\n",
    "Cualquier código aunque no esté correcto nos dirá más de ti que no escribir nada. "
   ]
  },
  {
   "cell_type": "markdown",
   "id": "57d6b062-27f8-4377-b583-d662777b0bd7",
   "metadata": {},
   "source": [
    "__Debes subir este notebook a tu REPO PERSONAL__\n",
    "\n",
    "__Hora: hasta las 21:15 del 08/11/2024__"
   ]
  },
  {
   "cell_type": "markdown",
   "id": "062d81e8",
   "metadata": {},
   "source": [
    "#### Ejercicio 1\n",
    "\n",
    "Disponemos de una lista con información sobre varios empleados:\n",
    "\n",
    "    empleados = \n",
    "    [[12345, \"Juan Rodríguez\", 53, [\"Director financiero\"], 2],[56789, \"Laura Pérez\", 41, [\"CEO\", \"Director\", \"Gerente\"], 2],[88354, \"Pedro Álvarez\", 26, [\"Asistente\",\"Gestor comercial\"], 3]]\n",
    "\n",
    "Respecto de cada empleado, la lista contiene cinco elementos: en el primero almacenamos su tfno, en el segundo su nombre, en el tercero su edad, en el cuarto los puestos que ha desempeñado en la empresa (en forma de lista) y en el quinto su código postal.\n",
    "\n",
    "1. Siguiendo la misma estructura, incluye un nuevo empleado en la última posición de la lista empleados.\n",
    "\n",
    "2. Mostrar por pantalla, sin uso de funciones (salvo print) ni bucles: \n",
    "\n",
    "    - El nombre y la edad del tercer empleado de la lista empleados.\n",
    "    - Los puestos desempeñados por Pedro Álvarez, ordenados de atras a adelante (es decir, de Gestor comercial a Asistente)\n",
    "    - Si el nuevo empleado que has añadido tiene más o igual a 60 años, muestra por pantalla los puestos que el nuevo empleado haya desempeñado en la empresa. En caso contrario, muestra los puestos desempeñados por Laura Pérez y Juan Rodriguez."
   ]
  },
  {
   "cell_type": "markdown",
   "id": "f7d264a7",
   "metadata": {},
   "source": [
    "##### 1. Nuevo empleado"
   ]
  },
  {
   "cell_type": "code",
   "execution_count": 1,
   "id": "7cf8afe3",
   "metadata": {},
   "outputs": [
    {
     "name": "stdout",
     "output_type": "stream",
     "text": [
      "[[12345, 'Juan Rodríguez', 53, ['Director financiero'], 2], [56789, 'Laura Pérez', 41, ['CEO', 'Director', 'Gerente'], 2], [88354, 'Pedro Álvarez', 26, ['Asistente', 'Gestor comercial'], 3]]\n",
      "[[12345, 'Juan Rodríguez', 53, ['Director financiero'], 2], [56789, 'Laura Pérez', 41, ['CEO', 'Director', 'Gerente'], 2], [88354, 'Pedro Álvarez', 26, ['Asistente', 'Gestor comercial'], 3], [11220, 'Sandra Martínez', 30, ['Becaria', 'Gestor comercial'], 3]]\n"
     ]
    }
   ],
   "source": [
    "# Lista inicial de los empleados\n",
    "empleados = [[12345, \"Juan Rodríguez\", 53, [\"Director financiero\"], 2],\n",
    "             [56789, \"Laura Pérez\", 41, [\"CEO\", \"Director\", \"Gerente\"], 2],\n",
    "             [88354, \"Pedro Álvarez\", 26, [\"Asistente\",\"Gestor comercial\"], 3]]\n",
    "print(empleados)\n",
    "\n",
    "# Crear una lista con el nuevo empleado\n",
    "empleado_nuevo = [11220, \"Sandra Martínez\", 30, [\"Becaria\", \"Gestor comercial\"], 3]\n",
    "\n",
    "# Añadir el empleado nuevo a la lista inicial e imprimir por pantalla\n",
    "empleados.append(empleado_nuevo)\n",
    "print(empleados)\n",
    "\n"
   ]
  },
  {
   "cell_type": "markdown",
   "id": "e6f0c9bd",
   "metadata": {},
   "source": [
    "##### 2. Mostrar por pantalla"
   ]
  },
  {
   "cell_type": "code",
   "execution_count": 2,
   "id": "379fd4c4",
   "metadata": {},
   "outputs": [
    {
     "name": "stdout",
     "output_type": "stream",
     "text": [
      "El tercer empleado se llama Pedro Álvarez y tiene 26 años\n",
      "['Gestor comercial', 'Asistente']\n",
      "Los puestos desempeñados por Laura Pérez son ['CEO', 'Director', 'Gerente']\n",
      "Los puestos desempeñados por Pedro Álvarez son ['Asistente', 'Gestor comercial']\n"
     ]
    }
   ],
   "source": [
    "# Nombre y edad del tercer empleado\n",
    "print(f\"El tercer empleado se llama {empleados[2][1]} y tiene {empleados[2][2]} años\")\n",
    "\n",
    "# Puestos del mismo ordenados de atrás adelante\n",
    "puestos_pedro = empleados[2][3] # Obtener los puestos\n",
    "puestos_pedro_reverse = puestos_pedro[::-1] # Darles la vuelta\n",
    "print(puestos_pedro_reverse)\n",
    "\n",
    "# Edad nuevo empleado y construccion de un if para la condición de edad\n",
    "if empleados[-1][2] >= 60:\n",
    "    print(f\"Los puestos desempeñados por {empleados[-1][1]} son {empleados[-1][3]}\")\n",
    "else:\n",
    "    print(f\"Los puestos desempeñados por {empleados[1][1]} son {empleados[1][3]}\")\n",
    "    print(f\"Los puestos desempeñados por {empleados[2][1]} son {empleados[2][3]}\")"
   ]
  },
  {
   "cell_type": "code",
   "execution_count": null,
   "id": "ae316b4b",
   "metadata": {},
   "outputs": [],
   "source": []
  },
  {
   "cell_type": "markdown",
   "id": "4da89624-0da3-4f91-aa5c-a084c5ee1b17",
   "metadata": {},
   "source": [
    "#### Ejercicio 2. \n",
    "\n",
    "Escribe un programa que te diga si una letra es una consonante o una vocal. Crea tu propia **FUNCIÓN**\n"
   ]
  },
  {
   "cell_type": "code",
   "execution_count": 3,
   "id": "608c3016",
   "metadata": {},
   "outputs": [
    {
     "name": "stdout",
     "output_type": "stream",
     "text": [
      "La letra a es una vocal\n",
      "La letra b es una consonante\n",
      "La letra i es una vocal\n"
     ]
    }
   ],
   "source": [
    "def letra(l):\n",
    "\n",
    "    # Función que indica si la variable es vocal o consonante \n",
    "    # l será un string que indicará una letra\n",
    "\n",
    "    # Guardamos en una variable las vocales\n",
    "    vocal = [\"a\",\"e\",\"i\",\"o\",\"u\"]\n",
    "\n",
    "    # Por si la letra introducida es mayúscula, que no de problemas\n",
    "    l = l.lower() \n",
    "\n",
    "    # Condicion de si es una vocal y print\n",
    "    if l in vocal:\n",
    "        print(f\"La letra {l} es una vocal\")\n",
    "    # Si no es una vocal, será consonante\n",
    "    else: \n",
    "        print(f\"La letra {l} es una consonante\")\n",
    "\n",
    "\n",
    "# Diferentes pruebas\n",
    "letra(\"a\")\n",
    "letra(\"b\")\n",
    "letra(\"I\")\n",
    "    "
   ]
  },
  {
   "cell_type": "code",
   "execution_count": null,
   "id": "c58bf610-92de-4a5a-a00d-652279ea33dd",
   "metadata": {},
   "outputs": [],
   "source": []
  },
  {
   "cell_type": "markdown",
   "id": "52065a6c-3d4c-44c0-a10b-958506c481b3",
   "metadata": {},
   "source": [
    "#### Ejercicio 3. \n",
    "\n",
    "Escribe un programa que calcule la edad humana de un perro.\n",
    "Tienes que pedirle al usuario la edad del perro en años.\n",
    "Si el usuario introduce un número negativo, imprime que la cifra facilitada no tiene sentido. Si el perro tiene un año, son 14 años humanos. Si tiene 2 años, son 22 años humanos.\n",
    "A partir de los 2 años, el cálculo es el siguiente: a la edad del perro se le restan 2 años, el resultado se multiplica por 5 y, finalmente, se le suma 22.\n",
    "Usa una función sin argumentos de entrada ni de salida (muestra toda la información con print())"
   ]
  },
  {
   "cell_type": "code",
   "execution_count": 4,
   "id": "a8367062",
   "metadata": {},
   "outputs": [],
   "source": [
    "def edad_humana_perro():\n",
    "\n",
    "    # Esta funcion calcula la edad humana de un perro según unas condiciones\n",
    "\n",
    "    # Primero pregunta la edad del perro en años y se ha de introducir\n",
    "    edad_perro = int(input(\"Indique la edad del perro en años, por favor\"))\n",
    "\n",
    "    # Las condiciones mencionadas\n",
    "    if edad_perro <= 0:\n",
    "        print(\"La cifra no tiene sentido\")\n",
    "    elif edad_perro == 1:\n",
    "        print(f\"La edad de perro {edad_perro} corresponde a 14 años humanos\")\n",
    "    elif edad_perro == 2:\n",
    "        print(f\"La edad de perro {edad_perro} corresponde a 22 años humanos\")\n",
    "    else:\n",
    "        edad_humana = ((edad_perro -2) * 5) + 22\n",
    "        print(f\"La edad de perro {edad_perro} corresponde a {edad_humana} años humanos\")\n"
   ]
  },
  {
   "cell_type": "code",
   "execution_count": 5,
   "id": "55122b61",
   "metadata": {},
   "outputs": [
    {
     "name": "stdout",
     "output_type": "stream",
     "text": [
      "La edad de perro 4 corresponde a 32 años humanos\n"
     ]
    }
   ],
   "source": [
    "# Pruebas de la función\n",
    "edad_humana_perro()"
   ]
  },
  {
   "cell_type": "code",
   "execution_count": null,
   "id": "9c59c801-1fe1-4a6d-a000-f85ca738ed00",
   "metadata": {},
   "outputs": [],
   "source": []
  },
  {
   "cell_type": "markdown",
   "id": "2991309f-4208-431a-900c-d9bc734bb936",
   "metadata": {},
   "source": [
    "#### Ejercicio 4. \n",
    "\n",
    "Escribe un programa que te diga si una frase es un pangrama. Un pangrama es una frase que contiene todas las letras del alfabeto.\n",
    "Puedes tener espacios en blanco, pero NO  tendrás signos de puntuación, a excepción de las tildes.\n",
    "\n",
    "Ejemplo de pangrama:\n",
    "\n",
    "Extraño pan de col y kiwi se quemó bajo fugaz vaho "
   ]
  },
  {
   "cell_type": "code",
   "execution_count": 6,
   "id": "ea2f3a41",
   "metadata": {},
   "outputs": [
    {
     "name": "stdout",
     "output_type": "stream",
     "text": [
      "La frase es un pangrama\n"
     ]
    }
   ],
   "source": [
    "# Ejemplo de frase para comprobar si es un pangrama\n",
    "frase = \"Extraño pan de col y kiwi se quemó bajo fugaz vaho\"\n",
    "\n",
    "# Obtener cada letra de la frase y en minúsculas sin tener en cuenta las tildes ni espacios\n",
    "letras = [letra.lower() for letra in frase if letra not in [\"á\",\"é\",\"í\",\"ó\",\"ú\", \" \"]]\n",
    "\n",
    "# Convertir en un set para tener una única repetición de las letras\n",
    "letras_set = set(letras)\n",
    "\n",
    "# Creamos el set del abecedario para comparar\n",
    "abecedario = {\"a\", \"b\", \"c\", \"d\", \"e\", \"f\", \"g\", \"h\", \"i\", \"j\", \"k\", \"l\", \"m\",\n",
    "               \"n\", \"ñ\", \"o\", \"p\", \"q\", \"r\", \"s\", \"t\", \"u\", \"v\", \"w\", \"x\", \"y\", \"z\"}\n",
    "\n",
    "# Si el set de las letras de la frase es igual al abecedario, es un pangrama (da igual el orden de las letras)\n",
    "if letras_set == abecedario:\n",
    "    print(\"La frase es un pangrama\")\n",
    "else:\n",
    "    print(\"La frase no es un pangrama\")"
   ]
  },
  {
   "cell_type": "code",
   "execution_count": null,
   "id": "9a349c1e-15ab-4253-97f8-2a07a263791d",
   "metadata": {},
   "outputs": [],
   "source": []
  },
  {
   "cell_type": "markdown",
   "id": "3dbb76e0-79b2-45e8-9034-58ee9cbd82bb",
   "metadata": {},
   "source": [
    "#### Ejercicio 5. \n",
    "\n",
    "Escribe un programa que use diccionarios para traducir palabras entre varios idiomas.\n",
    "Deberás pedirle al usuario una palabra por teclado, ver si está en tu diccionario. En caso de que esté, deberás mostrar la traducción de esa palabra.\n",
    "\n",
    "Ejemplo de diccionario:\n",
    "\n",
    "```python\n",
    "{\"file\": \"Fichier\", \"new\": \"Nouveau\", \"open\": \"Ouvrir\", \"save\": \"Enregistrer\", \"save as\": \"Enregistrer sous\", \"print preview\": \"Apercu avant impressioner\", \"print\": \"Imprimer\", \"close\": \"Fermer\", \"exit\": \"Quitter\"}\n"
   ]
  },
  {
   "cell_type": "code",
   "execution_count": 7,
   "id": "5c99f29f",
   "metadata": {},
   "outputs": [
    {
     "name": "stdout",
     "output_type": "stream",
     "text": [
      "La palabra en inglés file se dice Fichier en francés\n"
     ]
    }
   ],
   "source": [
    "# Guardar el diccionario \n",
    "diccionario = {\n",
    "    \"file\": \"Fichier\",\n",
    "    \"new\": \"Nouveau\", \n",
    "    \"open\": \"Ouvrir\", \n",
    "    \"save\": \"Enregistrer\", \n",
    "    \"save as\": \"Enregistrer sous\", \n",
    "    \"print preview\": \"Apercu avant impressioner\", \n",
    "    \"print\": \"Imprimer\", \n",
    "    \"close\": \"Fermer\", \n",
    "    \"exit\": \"Quitter\"\n",
    "    }\n",
    "\n",
    "# Introducir desde el teclado la palabra a traducir\n",
    "word = input(\"Indique la palabra en inglés a traducir\")\n",
    "\n",
    "# Buscar si está o no en el diccionario\n",
    "if word in diccionario.keys():\n",
    "    # Si está, imprime la traducción buscando en el diccionario\n",
    "    print(f\"La palabra en inglés {word} se dice {diccionario[word]} en francés\")\n",
    "else:\n",
    "    # Si no está, lo indica por pantalla\n",
    "    print(f\"La palabra {word} no está en el diccionario\")"
   ]
  },
  {
   "cell_type": "code",
   "execution_count": null,
   "id": "88236123-e8ac-45da-87d0-134a88a690c1",
   "metadata": {},
   "outputs": [],
   "source": []
  },
  {
   "cell_type": "markdown",
   "id": "61967ca4-7e06-44b3-ad7b-adbc0e71671a",
   "metadata": {},
   "source": [
    "#### Ejercicio 6. (Bonus).\n",
    "\n",
    "Usando `OOP` modela un theremin (es un instrumento musical que se toca modificando el campo electromagnético, por si tenías curiosidad).\n",
    "Tendrá de atributos la marca, el modelo, el peso, la potencia y la batería.\n",
    "\n",
    "Todos los instrumentos se crean con un peso predeterminado de 500, una potencia de 50 y una batería de 200.\n",
    "\n",
    "Cuando se recarga la batería vale 200.\n",
    "\n",
    "Cuando se toca, se muestra por pantalla que está sonando y la batería disminuye 10 (no siendo nunca negativo).\n",
    "Si no hay batería, no puede sonar. Crea un instrumento, tócalo mientras quede batería, cárgalo y no lo vuelvas a tocar.\n"
   ]
  },
  {
   "cell_type": "code",
   "execution_count": 9,
   "id": "8082c8cd-03a9-478e-aa72-4ec1306e1bb2",
   "metadata": {},
   "outputs": [],
   "source": [
    "class Theremin():\n",
    "\n",
    "    '''\n",
    "    La clase del instrumento musical theremin, que tiene un constructor con la marca,\n",
    "    modelo, peso, potencia y batería.\n",
    "\n",
    "    Tiene una función de tocar el intrumento que disminuye la batería.\n",
    "\n",
    "    Tiene una función para cargarlo.\n",
    "    '''\n",
    "\n",
    "    def __init__(self, marca, modelo, peso = 500, potencia = 50, bateria = 200):\n",
    "        self.marca = marca\n",
    "        self.modelo = modelo\n",
    "        self.peso = peso\n",
    "        self.potencia = potencia\n",
    "        self.bateria = bateria\n",
    "\n",
    "    def tocar_instrumento(self):\n",
    "        if self.bateria >= 10:\n",
    "            self.bateria -= 10\n",
    "            print(f\"El theremin esta sonando y le queda {self.bateria} de batería\")\n",
    "        else:\n",
    "            print(\"El theramin no tiene batería suficiente, debes recargarlo\")\n",
    "    \n",
    "    def cargar_instrumento(self):\n",
    "        self.bateria = 200"
   ]
  },
  {
   "cell_type": "code",
   "execution_count": 13,
   "id": "7f148d25",
   "metadata": {},
   "outputs": [
    {
     "name": "stdout",
     "output_type": "stream",
     "text": [
      "El theremin esta sonando y le queda 190 de batería\n"
     ]
    }
   ],
   "source": [
    "# Comprobación\n",
    "nuevo_theremin = Theremin(\"Marca\",\"Modelo\")\n",
    "\n",
    "# Comprobación de gasto de batería\n",
    "nuevo_theremin.tocar_instrumento()"
   ]
  },
  {
   "cell_type": "code",
   "execution_count": 14,
   "id": "b837a5c9",
   "metadata": {},
   "outputs": [
    {
     "name": "stdout",
     "output_type": "stream",
     "text": [
      "El theramin no tiene batería suficiente, debes recargarlo\n"
     ]
    }
   ],
   "source": [
    "# Comprobación del gasto si no queda batería\n",
    "nuevo_theremin.bateria = 5\n",
    "nuevo_theremin.tocar_instrumento()"
   ]
  },
  {
   "cell_type": "code",
   "execution_count": null,
   "id": "3c5e9bd8",
   "metadata": {},
   "outputs": [
    {
     "name": "stdout",
     "output_type": "stream",
     "text": [
      "5\n",
      "200\n"
     ]
    }
   ],
   "source": [
    "# Comprobación de la recarga\n",
    "print(nuevo_theremin.bateria)\n",
    "nuevo_theremin.cargar_instrumento()\n",
    "print(nuevo_theremin.bateria)"
   ]
  },
  {
   "cell_type": "markdown",
   "id": "30f773b5-a6da-4446-b36b-722b2ee57730",
   "metadata": {},
   "source": [
    "#### Ejercicio 7. Extra (NO PUNTÚA).\n",
    "Una empresa usa dos listas  para guardar la información de sus empleados. Una lista guarda el nombre del empleado y la otra guarda su salario. Escribe un programa que cree esas dos listas originalmente vacías y que a través de un menú pueda hacer lo siguiente:\n",
    "    \n",
    "Inserta 1 para añadir un nuevo empleado y su salario\n",
    "\n",
    "Inserta 2 para imprimir los nombres y salarios de todos los empleados\n",
    "\n",
    "Inserta 3 para mostrar el número de empleados\n",
    "\n",
    "Inserta 4 para imprimir los nombres de los empleados con sueldos superiores a 400000\n",
    "\n",
    "Inserta 5 para subir un 5% los sueldos por debajo de 10000\n",
    "\n",
    "Inserta 6 para mostrar el total de todos los salarios\n",
    "\n",
    "Inserta 7 para salir del programa"
   ]
  },
  {
   "cell_type": "code",
   "execution_count": null,
   "id": "67858e27-b7f5-4e05-bc50-3fca698ad22a",
   "metadata": {},
   "outputs": [
    {
     "name": "stdout",
     "output_type": "stream",
     "text": [
      "Adios!\n"
     ]
    }
   ],
   "source": [
    "nombre = []\n",
    "salario = []\n",
    "\n",
    "\n",
    "\n",
    "num = int(input(\"Inserta un número siguiendo el menú\"))\n",
    "condicion = False\n",
    "\n",
    "while condicion == False:\n",
    "\n",
    "    if num == 1:\n",
    "        nuevo_nombre = input(\"Inserta el nombre del nuevo empleado\")\n",
    "        salario_nuevo = input(\"Inserta su salario\")\n",
    "        nombre.append(nuevo_nombre)\n",
    "        salario.append(salario_nuevo)\n",
    "\n",
    "    elif num == 2:\n",
    "        print(nombre, salario)\n",
    "\n",
    "    elif num == 3:\n",
    "        numero_empleados = len(nombre)\n",
    "        print(f\"El numero de empleados es {numero_empleados}\")\n",
    "\n",
    "    elif num == 7:\n",
    "        print(\"Adios!\")\n",
    "        condicion == True\n",
    "        break\n",
    "\n",
    "# Faltan condiciones y no está bien hecho el while, pero es falta de tiempo :)\n"
   ]
  },
  {
   "cell_type": "markdown",
   "id": "e33a0e21-476e-4103-b889-a6b3e76b99f3",
   "metadata": {},
   "source": [
    "\n",
    "####  Ejercicio 8. EXTRA (NO PUNTÚA).\n",
    "\n",
    "Escribe un programa que __USE RECURSIVIDAD__ para decidir cuál es la película de Pixar favorita de un usuario.\n",
    "El programa preguntará al usuario cuál de 2 películas es su favorita, y con esa favorita se le volverá a preguntar entre esa y otra película cuál es su favorita...y así hasta que el usuario haya decidido de entre todas cuál es su favorita.\n",
    "\n",
    "Pista: si no quieres cambiar una lista, usa copy() y tendrás una copia que es otro objeto\n",
    "\n"
   ]
  },
  {
   "cell_type": "code",
   "execution_count": null,
   "id": "c9936fd4-6d29-4535-9f34-a6f289d18d8b",
   "metadata": {},
   "outputs": [],
   "source": []
  },
  {
   "cell_type": "code",
   "execution_count": 77,
   "id": "10a7b881",
   "metadata": {},
   "outputs": [],
   "source": [
    "# FIN DEL EXAMEN"
   ]
  }
 ],
 "metadata": {
  "kernelspec": {
   "display_name": "Python 3",
   "language": "python",
   "name": "python3"
  },
  "language_info": {
   "codemirror_mode": {
    "name": "ipython",
    "version": 3
   },
   "file_extension": ".py",
   "mimetype": "text/x-python",
   "name": "python",
   "nbconvert_exporter": "python",
   "pygments_lexer": "ipython3",
   "version": "3.10.11"
  }
 },
 "nbformat": 4,
 "nbformat_minor": 5
}
